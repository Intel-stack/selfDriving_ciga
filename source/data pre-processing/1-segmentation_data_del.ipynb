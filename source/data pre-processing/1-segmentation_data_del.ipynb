{
 "cells": [
  {
   "cell_type": "code",
   "execution_count": 12,
   "id": "0c75dd66-8db2-4a27-b676-d804b825c133",
   "metadata": {},
   "outputs": [],
   "source": [
    "import sys\n",
    "import os\n",
    "import pandas as pd\n",
    "from pathlib import Path\n",
    "\n",
    "train_folder = 'C:/Users/USER/Documents/vision-AI/project/7899/CigaretteButtDetector.v5i.yolov8-01_new/train'  # 첫 번째 폴더 경로\n",
    "test_folder = 'C:/Users/USER/Documents/vision-AI/project/7899/CigaretteButtDetector.v5i.yolov8-01_new/test'  # 첫 번째 폴더 경로\n",
    "valid_folder = 'C:/Users/USER/Documents/vision-AI/project/7899/CigaretteButtDetector.v5i.yolov8-01_new/valid'  # 첫 번째 폴더 경로"
   ]
  },
  {
   "cell_type": "code",
   "execution_count": 13,
   "id": "58a2b2d5-fc29-4150-b643-9f43daec0896",
   "metadata": {},
   "outputs": [],
   "source": [
    "train_label = 'C:/Users/USER/Documents/vision-AI/project/7899/CigaretteButtDetector.v5i.yolov8-01_new/train/labels'  # 첫 번째 폴더 경로\n",
    "train_image = 'C:/Users/USER/Documents/vision-AI/project/7899/CigaretteButtDetector.v5i.yolov8-01_new/train/images'  # 두 번째 폴더 경로\n",
    "\n",
    "test_label = 'C:/Users/USER/Documents/vision-AI/project/7899/CigaretteButtDetector.v5i.yolov8-01_new/test/labels'  # 첫 번째 폴더 경로\n",
    "test_image = 'C:/Users/USER/Documents/vision-AI/project/7899/CigaretteButtDetector.v5i.yolov8-01_new/test/images'  # 두 번째 폴더 경로로\n",
    "\n",
    "valid_label = 'C:/Users/USER/Documents/vision-AI/project/7899/CigaretteButtDetector.v5i.yolov8-01_new/valid/labels'  # 첫 번째 폴더 경로\n",
    "valid_image = 'C:/Users/USER/Documents/vision-AI/project/7899/CigaretteButtDetector.v5i.yolov8-01_new/valid/images'  # 두 번째 폴더 경로\n",
    "\n",
    "label_lst = [train_label, test_label, valid_label]\n",
    "image_lst = [train_image, test_image, valid_image]"
   ]
  },
  {
   "cell_type": "markdown",
   "id": "e8ca0279-b83d-41ac-96c9-191de64b5c92",
   "metadata": {},
   "source": [
    "### 텍스트 파일의 경로를 입력하면 동명의 라벨 파일을 제거해주는 함수\n",
    "\n",
    "text_file : 텍스트 파일의 전체 경로 </br>\n",
    "image_folder: 이미지 파일이 있는 폴더"
   ]
  },
  {
   "cell_type": "code",
   "execution_count": 14,
   "id": "47157f99-2cf3-4e96-9719-2a18ad34d88d",
   "metadata": {},
   "outputs": [],
   "source": [
    "import os\n",
    "import glob\n",
    "\n",
    "def delete_files(text_file, image_folder, log_file='deleted_files.txt', image_extensions=['.jpg', '.png', '.jpeg']):\n",
    "    # 텍스트 파일을 삭제하고 동일한 이름의 이미지를 다른 폴더에서 찾아 삭제하는 함수    \n",
    "    # 삭제된 파일 기록을 위한 파일 열기\n",
    "    with open(log_file, 'a') as log:\n",
    "        # 텍스트 파일의 기본 이름 추출\n",
    "        base_name = os.path.splitext(os.path.basename(text_file))[0]\n",
    "\n",
    "        # 해당 텍스트 파일 삭제\n",
    "        try:\n",
    "            os.remove(text_file)\n",
    "            print(f\"Deleted text file: {text_file}\")\n",
    "            log.write(f\"Deleted text file: {text_file}\\n\")\n",
    "        except FileNotFoundError as e:\n",
    "            print(f\"Failed to delete {text_file}: {e}\")\n",
    "            log.write(f\"Failed to delete {text_file}: {e}\\n\")\n",
    "\n",
    "        # 이미지 폴더에서 동일한 이름의 이미지 파일 검색 및 삭제\n",
    "        for ext in image_extensions:\n",
    "            image_file = os.path.join(image_folder, base_name + ext)\n",
    "            if os.path.exists(image_file):\n",
    "                try:\n",
    "                    os.remove(image_file)\n",
    "                    print(f\"Deleted image file: {image_file}\")\n",
    "                    log.write(f\"Deleted image file: {image_file}\\n\")\n",
    "                except FileNotFoundError as e:\n",
    "                    print(f\"Failed to delete {image_file}: {e}\")\n",
    "                    log.write(f\"Failed to delete {image_file}: {e}\\n\")"
   ]
  },
  {
   "cell_type": "markdown",
   "id": "678055e8-ea2b-4b5b-bdce-ea0f4c9f0e4f",
   "metadata": {},
   "source": [
    "### label의 단어수로 segmentation 파일을 파악해서 제거해주는 함수\n",
    "\n",
    "folder : 텍스트 파일의 전체 경로"
   ]
  },
  {
   "cell_type": "code",
   "execution_count": 15,
   "id": "29a1e789-8c56-4c8e-a247-9779fbe8e629",
   "metadata": {},
   "outputs": [],
   "source": [
    "def print_list_by_group(lst, group_size=5):\n",
    "    for index, item in enumerate(lst):\n",
    "        print(item, end=' ')\n",
    "        if (index + 1) % group_size == 0:  # 다섯 번째 요소마다\n",
    "            print()  # 줄바꿈"
   ]
  },
  {
   "cell_type": "code",
   "execution_count": 16,
   "id": "13aaf12c-cb15-4a23-935e-16ae84fe5621",
   "metadata": {},
   "outputs": [],
   "source": [
    "from collections import Counter\n",
    "\n",
    "def count_det_seg(folder):\n",
    "    det_butt = 0     # a number of detection file\n",
    "    seg_butt = 0     # a number of segmentation file\n",
    "\n",
    "    len_lst = []\n",
    "\n",
    "    for file_name in os.listdir(folder):\n",
    "        \n",
    "        file_path = os.path.join(folder, file_name)\n",
    "        \n",
    "        # 파일 확장자가 .txt인 경우에만 처리\n",
    "        if (file_path.endswith('.txt')):     \n",
    "            rf = open(file_path,'r')   #파일에 텍스트 읽기    \n",
    "            s1 = rf.readline()        \n",
    "            \n",
    "            lst = s1.split(' ')\n",
    "\n",
    "            len_lst.append(len(lst))\n",
    "            \n",
    "            if (len(lst) < 6):\n",
    "                det_butt+=1\n",
    "                rf.close()\n",
    "            else:\n",
    "                seg_butt+=1        \n",
    "                rf.close()\n",
    "                delete_files(file_path, folder)\n",
    "    \n",
    "    print(det_butt)\n",
    "    print(seg_butt)\n",
    "\n",
    "    result = Counter(len_lst)\n",
    "    print(result)"
   ]
  },
  {
   "cell_type": "markdown",
   "id": "86edea01-79d8-438d-9e53-9c3b0da06d8d",
   "metadata": {},
   "source": [
    "### 여기 달려있는 결과들은 사실상 같은 함수 2번 돌린 결과입니다"
   ]
  },
  {
   "cell_type": "code",
   "execution_count": 20,
   "id": "26c19aaf-62e1-45a4-b967-46820eacd2bc",
   "metadata": {},
   "outputs": [
    {
     "name": "stdout",
     "output_type": "stream",
     "text": [
      "2223\n",
      "0\n",
      "Counter({5: 2223})\n"
     ]
    }
   ],
   "source": [
    "count_det_seg(train_label)"
   ]
  },
  {
   "cell_type": "code",
   "execution_count": 21,
   "id": "caef2e5c-61ed-4f45-b3c8-9f0c14e27dd3",
   "metadata": {},
   "outputs": [
    {
     "name": "stdout",
     "output_type": "stream",
     "text": [
      "262\n",
      "0\n",
      "Counter({5: 262})\n"
     ]
    }
   ],
   "source": [
    "count_det_seg(test_label)"
   ]
  },
  {
   "cell_type": "code",
   "execution_count": 22,
   "id": "1c8fdeec-6967-4e78-8977-ec203e926c67",
   "metadata": {},
   "outputs": [
    {
     "name": "stdout",
     "output_type": "stream",
     "text": [
      "532\n",
      "0\n",
      "Counter({5: 532})\n"
     ]
    }
   ],
   "source": [
    "count_det_seg(valid_label)"
   ]
  },
  {
   "cell_type": "code",
   "execution_count": null,
   "id": "50c21478-a5b6-43cd-8fc2-f0cc7f619a18",
   "metadata": {},
   "outputs": [],
   "source": []
  }
 ],
 "metadata": {
  "kernelspec": {
   "display_name": "torch-gpu",
   "language": "python",
   "name": "torch-gpu"
  },
  "language_info": {
   "codemirror_mode": {
    "name": "ipython",
    "version": 3
   },
   "file_extension": ".py",
   "mimetype": "text/x-python",
   "name": "python",
   "nbconvert_exporter": "python",
   "pygments_lexer": "ipython3",
   "version": "3.10.14"
  }
 },
 "nbformat": 4,
 "nbformat_minor": 5
}
