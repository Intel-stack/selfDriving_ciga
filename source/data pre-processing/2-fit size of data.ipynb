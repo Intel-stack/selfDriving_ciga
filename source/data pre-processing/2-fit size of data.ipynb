{
 "cells": [
  {
   "cell_type": "code",
   "execution_count": 1,
   "id": "0c75dd66-8db2-4a27-b676-d804b825c133",
   "metadata": {},
   "outputs": [],
   "source": [
    "import glob\n",
    "import sys\n",
    "import os\n",
    "import pandas as pd\n",
    "from pathlib import Path\n",
    "\n",
    "train_folder = 'C:/Users/USER/Documents/vision-AI/project/7899/CigaretteButtDetector.v5i.yolov8-1by1_new/train'  # 첫 번째 폴더 경로\n",
    "test_folder = 'C:/Users/USER/Documents/vision-AI/project/7899/CigaretteButtDetector.v5i.yolov8-1by1_new/test'  # 첫 번째 폴더 경로\n",
    "valid_folder = 'C:/Users/USER/Documents/vision-AI/project/7899/CigaretteButtDetector.v5i.yolov8-1by1_new/valid'  # 첫 번째 폴더 경로"
   ]
  },
  {
   "cell_type": "code",
   "execution_count": 2,
   "id": "5eec0c4c-bfa9-46f5-a911-18ac0c72f33f",
   "metadata": {},
   "outputs": [],
   "source": [
    "train_label = 'C:/Users/USER/Documents/vision-AI/project/7899/CigaretteButtDetector.v5i.yolov8-1by1_new/train/labels'  # 첫 번째 폴더 경로\n",
    "train_image = 'C:/Users/USER/Documents/vision-AI/project/7899/CigaretteButtDetector.v5i.yolov8-1by1_new/train/images'  # 두 번째 폴더 경로\n",
    "\n",
    "test_label = 'C:/Users/USER/Documents/vision-AI/project/7899/CigaretteButtDetector.v5i.yolov8-1by1_new/test/labels'  # 첫 번째 폴더 경로\n",
    "test_image = 'C:/Users/USER/Documents/vision-AI/project/7899/CigaretteButtDetector.v5i.yolov8-1by1_new/test/images'  # 두 번째 폴더 경로로\n",
    "\n",
    "valid_label = 'C:/Users/USER/Documents/vision-AI/project/7899/CigaretteButtDetector.v5i.yolov8-1by1_new/valid/labels'  # 첫 번째 폴더 경로\n",
    "valid_image = 'C:/Users/USER/Documents/vision-AI/project/7899/CigaretteButtDetector.v5i.yolov8-1by1_new/valid/images'  # 두 번째 폴더 경로\n",
    "\n",
    "label_lst = [train_label, test_label, valid_label]\n",
    "image_lst = [train_image, test_image, valid_image]"
   ]
  },
  {
   "cell_type": "code",
   "execution_count": 3,
   "id": "13aaf12c-cb15-4a23-935e-16ae84fe5621",
   "metadata": {},
   "outputs": [],
   "source": [
    "def cig_burn_count(folder):\n",
    "    cig_butt = 0\n",
    "    burn_butt = 0\n",
    "\n",
    "    for file_name in os.listdir(folder):\n",
    "        \n",
    "        file_path = os.path.join(folder, file_name)            \n",
    "        \n",
    "        # 파일 확장자가 .txt인 경우에만 처리\n",
    "        if (file_path.endswith('.txt')):    \n",
    "            \n",
    "            with open(file_path, 'r') as infile:\n",
    "                for line in infile:\n",
    "                    lst = line.strip().split()\n",
    "                    if (lst[0] == \"0\"):\n",
    "                        cig_butt+=1\n",
    "                    if (lst[0] == \"1\"):\n",
    "                        burn_butt+=1\n",
    "    \n",
    "    print(cig_butt)\n",
    "    print(burn_butt)"
   ]
  },
  {
   "cell_type": "code",
   "execution_count": 4,
   "id": "26c19aaf-62e1-45a4-b967-46820eacd2bc",
   "metadata": {},
   "outputs": [
    {
     "name": "stdout",
     "output_type": "stream",
     "text": [
      "C:/Users/USER/Documents/vision-AI/project/7899/CigaretteButtDetector.v5i.yolov8-1by1_new/train/labels\n",
      "3228\n",
      "554\n",
      "C:/Users/USER/Documents/vision-AI/project/7899/CigaretteButtDetector.v5i.yolov8-1by1_new/test/labels\n",
      "404\n",
      "56\n",
      "C:/Users/USER/Documents/vision-AI/project/7899/CigaretteButtDetector.v5i.yolov8-1by1_new/valid/labels\n",
      "766\n",
      "152\n"
     ]
    }
   ],
   "source": [
    "for fld in label_lst:\n",
    "    print(fld)\n",
    "    cig_burn_count(fld)"
   ]
  },
  {
   "cell_type": "code",
   "execution_count": 5,
   "id": "47157f99-2cf3-4e96-9719-2a18ad34d88d",
   "metadata": {},
   "outputs": [],
   "source": [
    "def delete_files(text_file, image_folder, log_file='deleted_files.txt', image_extensions=['.jpg', '.png', '.jpeg']):\n",
    "    # 텍스트 파일을 삭제하고 동일한 이름의 이미지를 다른 폴더에서 찾아 삭제하는 함수\n",
    "    \n",
    "    # 삭제된 파일 기록을 위한 파일 열기\n",
    "    with open(log_file, 'a') as log:\n",
    "        # 텍스트 파일의 기본 이름 추출\n",
    "        base_name = os.path.splitext(os.path.basename(text_file))[0]\n",
    "\n",
    "        # 해당 텍스트 파일 삭제\n",
    "        try:\n",
    "            os.remove(text_file)\n",
    "            print(f\"Deleted text file: {text_file}\")\n",
    "            log.write(f\"Deleted text file: {text_file}\\n\")\n",
    "        except FileNotFoundError as e:\n",
    "            print(f\"Failed to delete {text_file}: {e}\")\n",
    "            log.write(f\"Failed to delete {text_file}: {e}\\n\")\n",
    "\n",
    "        # 이미지 폴더에서 동일한 이름의 이미지 파일 검색 및 삭제\n",
    "        for ext in image_extensions:\n",
    "            image_file = os.path.join(image_folder, base_name + ext)\n",
    "            if os.path.exists(image_file):\n",
    "                try:\n",
    "                    os.remove(image_file)\n",
    "                    print(f\"Deleted image file: {image_file}\")\n",
    "                    log.write(f\"Deleted image file: {image_file}\\n\")\n",
    "                except FileNotFoundError as e:\n",
    "                    print(f\"Failed to delete {image_file}: {e}\")\n",
    "                    log.write(f\"Failed to delete {image_file}: {e}\\n\")"
   ]
  },
  {
   "cell_type": "code",
   "execution_count": 6,
   "id": "57359add-b9b7-4a31-9b5d-9282f80b5143",
   "metadata": {},
   "outputs": [
    {
     "name": "stdout",
     "output_type": "stream",
     "text": [
      "3228\n",
      "554\n",
      "404\n",
      "56\n",
      "766\n",
      "152\n"
     ]
    }
   ],
   "source": [
    "cig_butt = 0\n",
    "burn_butt = 0\n",
    "\n",
    "for i in range(3):\n",
    "    for file_name in os.listdir(label_lst[i]):    \n",
    "        file_path = os.path.join(label_lst[i], image_lst[i])\n",
    "        \n",
    "        # 파일 확장자가 .txt인 경우에만 처리\n",
    "        if file_path.endswith('.txt'):     \n",
    "            with open(file_path, 'r') as rf:  # 파일에 텍스트 읽기    \n",
    "                s1 = rf.readline()\n",
    "            \n",
    "            lst = s1.split(' ')\n",
    "            if lst[0] == \"0\":\n",
    "                if burn_butt < cig_butt:\n",
    "                    delete_files(file_path, image_folder)\n",
    "                else:\n",
    "                    cig_butt += 1\n",
    "                \n",
    "            if lst[0] == \"1\":\n",
    "                burn_butt += 1\n",
    "                \n",
    "    cig_burn_count(label_lst[i])"
   ]
  },
  {
   "cell_type": "code",
   "execution_count": 7,
   "id": "51fa9f43-110d-40e8-9f6e-7d368f94da8f",
   "metadata": {},
   "outputs": [
    {
     "name": "stdout",
     "output_type": "stream",
     "text": [
      "C:/Users/USER/Documents/vision-AI/project/7899/CigaretteButtDetector.v5i.yolov8-1by1_new/train/labels\n",
      "3228\n",
      "554\n",
      "C:/Users/USER/Documents/vision-AI/project/7899/CigaretteButtDetector.v5i.yolov8-1by1_new/test/labels\n",
      "404\n",
      "56\n",
      "C:/Users/USER/Documents/vision-AI/project/7899/CigaretteButtDetector.v5i.yolov8-1by1_new/valid/labels\n",
      "766\n",
      "152\n"
     ]
    }
   ],
   "source": [
    "for fld in label_lst:\n",
    "    print(fld)\n",
    "    cig_burn_count(fld)"
   ]
  },
  {
   "cell_type": "code",
   "execution_count": null,
   "id": "7f8ea161-a212-4441-8387-52377f75613f",
   "metadata": {},
   "outputs": [],
   "source": []
  }
 ],
 "metadata": {
  "kernelspec": {
   "display_name": "torch-gpu",
   "language": "python",
   "name": "torch-gpu"
  },
  "language_info": {
   "codemirror_mode": {
    "name": "ipython",
    "version": 3
   },
   "file_extension": ".py",
   "mimetype": "text/x-python",
   "name": "python",
   "nbconvert_exporter": "python",
   "pygments_lexer": "ipython3",
   "version": "3.10.14"
  }
 },
 "nbformat": 4,
 "nbformat_minor": 5
}
